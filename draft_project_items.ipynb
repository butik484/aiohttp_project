{
 "cells": [
  {
   "cell_type": "code",
   "execution_count": 12,
   "metadata": {},
   "outputs": [],
   "source": [
    "from datetime import datetime\n",
    "from libs.constants import DIRECTIONS\n",
    "from libs.db import get_query_date\n",
    "\n",
    "class Store(object):\n",
    "    \n",
    "    def __init__(self):\n",
    "        self.db = {}\n",
    "        self.update_status = {}\n",
    "\n",
    "    def get_tickets(self):\n",
    "        return self.db.items()\n",
    "    \n",
    "    def is_reload(self, key):\n",
    "        return self.update_status.get(key)\n",
    "    \n",
    "    def prepare_reload(self):\n",
    "        \n",
    "        for direction in DIRECTIONS:\n",
    "            for date in get_query_date():\n",
    "                self.update_status[f'{direction}{date}'] = False\n",
    "    \n",
    "    def reload(self, key, value):\n",
    "        reloaded = self.update_status.get(key)\n",
    "        if reloaded:\n",
    "            return True\n",
    "        self.update_status[key] = value\n",
    "    \n",
    "    def get_or_create(self, key, value):\n",
    "        ticket = self.db.get(key)\n",
    "        if ticket:\n",
    "            return False, ticket\n",
    "        self.db[key] = value\n",
    "        return True, value\n",
    "\n",
    "\n",
    "class Ticket(object):\n",
    "    def __init__(self, cost):\n",
    "        self.cost = cost\n",
    "    \n"
   ]
  },
  {
   "cell_type": "code",
   "execution_count": 14,
   "metadata": {
    "scrolled": false
   },
   "outputs": [
    {
     "data": {
      "text/plain": [
       "False"
      ]
     },
     "execution_count": 14,
     "metadata": {},
     "output_type": "execute_result"
    }
   ],
   "source": [
    "s = Store()\n",
    "s.prepare_reload()\n",
    "s.update_status\n",
    "s.is_reload(key='ALA-TSE20181203')"
   ]
  },
  {
   "cell_type": "code",
   "execution_count": 38,
   "metadata": {},
   "outputs": [],
   "source": [
    "from libs.helpers import create_keys\n",
    "\n",
    "\n",
    "class Store(object):\n",
    "    \"\"\"This class implements simple dict storage for candles\n",
    "    \"\"\"\n",
    "    def __init__(self):\n",
    "        self.tickets = {}\n",
    "        self.update_status = {}\n",
    "        self.today_updated = False\n",
    "\n",
    "    def _prepare_reload(self):\n",
    "        for key in create_keys():\n",
    "            self.update_status[key] = False\n",
    "\n",
    "    def store_updated(self, key):\n",
    "\n",
    "        if not self.update_status.get(key):\n",
    "            # creat keys\n",
    "            self.today_updated = False\n",
    "            self._prepare_reload()\n",
    "            return False\n",
    "\n",
    "        if all([value for key, value in self.update_status.items()]):\n",
    "            self.today_updated = True\n",
    "            return True\n",
    "\n",
    "    def is_updated(self):\n",
    "        return self.today_updated\n",
    "\n",
    "    def is_reload(self, key):\n",
    "        return self.update_status.get(key, False)\n",
    "    \n",
    "    def _update_status(self, key):\n",
    "        value = self.update_status.get(key)\n",
    "        if not value:\n",
    "            # raise exception ? \n",
    "            self.update_status[key] = True\n",
    "    \n",
    "    def get_or_create(self, key, value):\n",
    "        ticket = self.tickets.get(key)\n",
    "        if ticket:\n",
    "            return False, ticket\n",
    "        self.tickets[key] = value\n",
    "        return True, value\n",
    "\n",
    "    def __repr__(self):\n",
    "        return f'{self.__class__.__name__}: {self.tickets.values()}'\n"
   ]
  },
  {
   "cell_type": "code",
   "execution_count": 42,
   "metadata": {
    "scrolled": true
   },
   "outputs": [
    {
     "name": "stdout",
     "output_type": "stream",
     "text": [
      "Data not updated, generated\n",
      "Data is reloaded: False\n",
      "Update the ALA-TSE20181204 value\n",
      "Value updated True\n",
      "All data updated\n",
      "Status of data updated True\n"
     ]
    }
   ],
   "source": [
    "s = Store()\n",
    "key = next(create_keys())\n",
    "if not s.is_updated():\n",
    "    print('Data not updated, generated')\n",
    "    s.store_updated(key)\n",
    "    print('Data is reloaded:', s.is_reload(key))\n",
    "    print(f'Update the {key} value')\n",
    "    s._update_status(key)\n",
    "    print('Value updated', s.update_status[key])\n",
    "\n",
    "print('All data updated')\n",
    "for key, value in s.update_status.items():\n",
    "    s.update_status[key] = True\n",
    "print('Status of data updated', s.store_updated(key))"
   ]
  },
  {
   "cell_type": "code",
   "execution_count": null,
   "metadata": {},
   "outputs": [],
   "source": []
  }
 ],
 "metadata": {
  "celltoolbar": "Raw Cell Format",
  "kernelspec": {
   "display_name": "Python 3",
   "language": "python",
   "name": "python3"
  },
  "language_info": {
   "codemirror_mode": {
    "name": "ipython",
    "version": 3
   },
   "file_extension": ".py",
   "mimetype": "text/x-python",
   "name": "python",
   "nbconvert_exporter": "python",
   "pygments_lexer": "ipython3",
   "version": "3.6.1"
  }
 },
 "nbformat": 4,
 "nbformat_minor": 2
}
